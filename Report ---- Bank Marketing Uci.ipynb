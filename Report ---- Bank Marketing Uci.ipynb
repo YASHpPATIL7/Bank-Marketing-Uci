{
 "cells": [
  {
   "cell_type": "code",
   "execution_count": 1,
   "id": "044ea170",
   "metadata": {},
   "outputs": [],
   "source": [
    "import os\n",
    "import numpy as np\n",
    "import pandas as pd\n",
    "import seaborn as sns\n",
    "import matplotlib.pyplot as plt\n",
    "import warnings\n",
    "warnings.filterwarnings(\"ignore\")\n"
   ]
  },
  {
   "cell_type": "code",
   "execution_count": 2,
   "id": "f4ad0311",
   "metadata": {},
   "outputs": [
    {
     "data": {
      "text/html": [
       "<div>\n",
       "<style scoped>\n",
       "    .dataframe tbody tr th:only-of-type {\n",
       "        vertical-align: middle;\n",
       "    }\n",
       "\n",
       "    .dataframe tbody tr th {\n",
       "        vertical-align: top;\n",
       "    }\n",
       "\n",
       "    .dataframe thead th {\n",
       "        text-align: right;\n",
       "    }\n",
       "</style>\n",
       "<table border=\"1\" class=\"dataframe\">\n",
       "  <thead>\n",
       "    <tr style=\"text-align: right;\">\n",
       "      <th></th>\n",
       "      <th>age</th>\n",
       "      <th>job</th>\n",
       "      <th>marital</th>\n",
       "      <th>education</th>\n",
       "      <th>default</th>\n",
       "      <th>balance</th>\n",
       "      <th>housing</th>\n",
       "      <th>loan</th>\n",
       "      <th>contact</th>\n",
       "      <th>day</th>\n",
       "      <th>month</th>\n",
       "      <th>duration</th>\n",
       "      <th>campaign</th>\n",
       "      <th>pdays</th>\n",
       "      <th>previous</th>\n",
       "      <th>poutcome</th>\n",
       "      <th>y</th>\n",
       "    </tr>\n",
       "  </thead>\n",
       "  <tbody>\n",
       "    <tr>\n",
       "      <th>0</th>\n",
       "      <td>30</td>\n",
       "      <td>unemployed</td>\n",
       "      <td>married</td>\n",
       "      <td>primary</td>\n",
       "      <td>no</td>\n",
       "      <td>1787</td>\n",
       "      <td>no</td>\n",
       "      <td>no</td>\n",
       "      <td>cellular</td>\n",
       "      <td>19</td>\n",
       "      <td>oct</td>\n",
       "      <td>79</td>\n",
       "      <td>1</td>\n",
       "      <td>-1</td>\n",
       "      <td>0</td>\n",
       "      <td>unknown</td>\n",
       "      <td>no</td>\n",
       "    </tr>\n",
       "    <tr>\n",
       "      <th>1</th>\n",
       "      <td>33</td>\n",
       "      <td>services</td>\n",
       "      <td>married</td>\n",
       "      <td>secondary</td>\n",
       "      <td>no</td>\n",
       "      <td>4789</td>\n",
       "      <td>yes</td>\n",
       "      <td>yes</td>\n",
       "      <td>cellular</td>\n",
       "      <td>11</td>\n",
       "      <td>may</td>\n",
       "      <td>220</td>\n",
       "      <td>1</td>\n",
       "      <td>339</td>\n",
       "      <td>4</td>\n",
       "      <td>failure</td>\n",
       "      <td>no</td>\n",
       "    </tr>\n",
       "    <tr>\n",
       "      <th>2</th>\n",
       "      <td>35</td>\n",
       "      <td>management</td>\n",
       "      <td>single</td>\n",
       "      <td>tertiary</td>\n",
       "      <td>no</td>\n",
       "      <td>1350</td>\n",
       "      <td>yes</td>\n",
       "      <td>no</td>\n",
       "      <td>cellular</td>\n",
       "      <td>16</td>\n",
       "      <td>apr</td>\n",
       "      <td>185</td>\n",
       "      <td>1</td>\n",
       "      <td>330</td>\n",
       "      <td>1</td>\n",
       "      <td>failure</td>\n",
       "      <td>no</td>\n",
       "    </tr>\n",
       "    <tr>\n",
       "      <th>3</th>\n",
       "      <td>30</td>\n",
       "      <td>management</td>\n",
       "      <td>married</td>\n",
       "      <td>tertiary</td>\n",
       "      <td>no</td>\n",
       "      <td>1476</td>\n",
       "      <td>yes</td>\n",
       "      <td>yes</td>\n",
       "      <td>unknown</td>\n",
       "      <td>3</td>\n",
       "      <td>jun</td>\n",
       "      <td>199</td>\n",
       "      <td>4</td>\n",
       "      <td>-1</td>\n",
       "      <td>0</td>\n",
       "      <td>unknown</td>\n",
       "      <td>no</td>\n",
       "    </tr>\n",
       "    <tr>\n",
       "      <th>4</th>\n",
       "      <td>59</td>\n",
       "      <td>blue-collar</td>\n",
       "      <td>married</td>\n",
       "      <td>secondary</td>\n",
       "      <td>no</td>\n",
       "      <td>0</td>\n",
       "      <td>yes</td>\n",
       "      <td>no</td>\n",
       "      <td>unknown</td>\n",
       "      <td>5</td>\n",
       "      <td>may</td>\n",
       "      <td>226</td>\n",
       "      <td>1</td>\n",
       "      <td>-1</td>\n",
       "      <td>0</td>\n",
       "      <td>unknown</td>\n",
       "      <td>no</td>\n",
       "    </tr>\n",
       "  </tbody>\n",
       "</table>\n",
       "</div>"
      ],
      "text/plain": [
       "   age          job  marital  education default  balance housing loan  \\\n",
       "0   30   unemployed  married    primary      no     1787      no   no   \n",
       "1   33     services  married  secondary      no     4789     yes  yes   \n",
       "2   35   management   single   tertiary      no     1350     yes   no   \n",
       "3   30   management  married   tertiary      no     1476     yes  yes   \n",
       "4   59  blue-collar  married  secondary      no        0     yes   no   \n",
       "\n",
       "    contact  day month  duration  campaign  pdays  previous poutcome   y  \n",
       "0  cellular   19   oct        79         1     -1         0  unknown  no  \n",
       "1  cellular   11   may       220         1    339         4  failure  no  \n",
       "2  cellular   16   apr       185         1    330         1  failure  no  \n",
       "3   unknown    3   jun       199         4     -1         0  unknown  no  \n",
       "4   unknown    5   may       226         1     -1         0  unknown  no  "
      ]
     },
     "execution_count": 2,
     "metadata": {},
     "output_type": "execute_result"
    }
   ],
   "source": [
    "df = pd.read_csv(\"bank.csv\",sep=\";\")\n",
    "df.head()"
   ]
  },
  {
   "cell_type": "code",
   "execution_count": 3,
   "id": "846f7998",
   "metadata": {},
   "outputs": [
    {
     "name": "stdout",
     "output_type": "stream",
     "text": [
      "<class 'pandas.core.frame.DataFrame'>\n",
      "RangeIndex: 4521 entries, 0 to 4520\n",
      "Data columns (total 17 columns):\n",
      " #   Column     Non-Null Count  Dtype \n",
      "---  ------     --------------  ----- \n",
      " 0   age        4521 non-null   int64 \n",
      " 1   job        4521 non-null   object\n",
      " 2   marital    4521 non-null   object\n",
      " 3   education  4521 non-null   object\n",
      " 4   default    4521 non-null   object\n",
      " 5   balance    4521 non-null   int64 \n",
      " 6   housing    4521 non-null   object\n",
      " 7   loan       4521 non-null   object\n",
      " 8   contact    4521 non-null   object\n",
      " 9   day        4521 non-null   int64 \n",
      " 10  month      4521 non-null   object\n",
      " 11  duration   4521 non-null   int64 \n",
      " 12  campaign   4521 non-null   int64 \n",
      " 13  pdays      4521 non-null   int64 \n",
      " 14  previous   4521 non-null   int64 \n",
      " 15  poutcome   4521 non-null   object\n",
      " 16  y          4521 non-null   object\n",
      "dtypes: int64(7), object(10)\n",
      "memory usage: 600.6+ KB\n"
     ]
    }
   ],
   "source": [
    "df.info()\n"
   ]
  },
  {
   "cell_type": "code",
   "execution_count": 4,
   "id": "44cb36d2",
   "metadata": {},
   "outputs": [
    {
     "data": {
      "text/html": [
       "<div>\n",
       "<style scoped>\n",
       "    .dataframe tbody tr th:only-of-type {\n",
       "        vertical-align: middle;\n",
       "    }\n",
       "\n",
       "    .dataframe tbody tr th {\n",
       "        vertical-align: top;\n",
       "    }\n",
       "\n",
       "    .dataframe thead th {\n",
       "        text-align: right;\n",
       "    }\n",
       "</style>\n",
       "<table border=\"1\" class=\"dataframe\">\n",
       "  <thead>\n",
       "    <tr style=\"text-align: right;\">\n",
       "      <th></th>\n",
       "      <th>age</th>\n",
       "      <th>balance</th>\n",
       "      <th>day</th>\n",
       "      <th>duration</th>\n",
       "      <th>campaign</th>\n",
       "      <th>pdays</th>\n",
       "      <th>previous</th>\n",
       "    </tr>\n",
       "  </thead>\n",
       "  <tbody>\n",
       "    <tr>\n",
       "      <th>count</th>\n",
       "      <td>4521.000000</td>\n",
       "      <td>4521.000000</td>\n",
       "      <td>4521.000000</td>\n",
       "      <td>4521.000000</td>\n",
       "      <td>4521.000000</td>\n",
       "      <td>4521.000000</td>\n",
       "      <td>4521.000000</td>\n",
       "    </tr>\n",
       "    <tr>\n",
       "      <th>mean</th>\n",
       "      <td>41.170095</td>\n",
       "      <td>1422.657819</td>\n",
       "      <td>15.915284</td>\n",
       "      <td>263.961292</td>\n",
       "      <td>2.793630</td>\n",
       "      <td>39.766645</td>\n",
       "      <td>0.542579</td>\n",
       "    </tr>\n",
       "    <tr>\n",
       "      <th>std</th>\n",
       "      <td>10.576211</td>\n",
       "      <td>3009.638142</td>\n",
       "      <td>8.247667</td>\n",
       "      <td>259.856633</td>\n",
       "      <td>3.109807</td>\n",
       "      <td>100.121124</td>\n",
       "      <td>1.693562</td>\n",
       "    </tr>\n",
       "    <tr>\n",
       "      <th>min</th>\n",
       "      <td>19.000000</td>\n",
       "      <td>-3313.000000</td>\n",
       "      <td>1.000000</td>\n",
       "      <td>4.000000</td>\n",
       "      <td>1.000000</td>\n",
       "      <td>-1.000000</td>\n",
       "      <td>0.000000</td>\n",
       "    </tr>\n",
       "    <tr>\n",
       "      <th>25%</th>\n",
       "      <td>33.000000</td>\n",
       "      <td>69.000000</td>\n",
       "      <td>9.000000</td>\n",
       "      <td>104.000000</td>\n",
       "      <td>1.000000</td>\n",
       "      <td>-1.000000</td>\n",
       "      <td>0.000000</td>\n",
       "    </tr>\n",
       "    <tr>\n",
       "      <th>50%</th>\n",
       "      <td>39.000000</td>\n",
       "      <td>444.000000</td>\n",
       "      <td>16.000000</td>\n",
       "      <td>185.000000</td>\n",
       "      <td>2.000000</td>\n",
       "      <td>-1.000000</td>\n",
       "      <td>0.000000</td>\n",
       "    </tr>\n",
       "    <tr>\n",
       "      <th>75%</th>\n",
       "      <td>49.000000</td>\n",
       "      <td>1480.000000</td>\n",
       "      <td>21.000000</td>\n",
       "      <td>329.000000</td>\n",
       "      <td>3.000000</td>\n",
       "      <td>-1.000000</td>\n",
       "      <td>0.000000</td>\n",
       "    </tr>\n",
       "    <tr>\n",
       "      <th>max</th>\n",
       "      <td>87.000000</td>\n",
       "      <td>71188.000000</td>\n",
       "      <td>31.000000</td>\n",
       "      <td>3025.000000</td>\n",
       "      <td>50.000000</td>\n",
       "      <td>871.000000</td>\n",
       "      <td>25.000000</td>\n",
       "    </tr>\n",
       "  </tbody>\n",
       "</table>\n",
       "</div>"
      ],
      "text/plain": [
       "               age       balance          day     duration     campaign  \\\n",
       "count  4521.000000   4521.000000  4521.000000  4521.000000  4521.000000   \n",
       "mean     41.170095   1422.657819    15.915284   263.961292     2.793630   \n",
       "std      10.576211   3009.638142     8.247667   259.856633     3.109807   \n",
       "min      19.000000  -3313.000000     1.000000     4.000000     1.000000   \n",
       "25%      33.000000     69.000000     9.000000   104.000000     1.000000   \n",
       "50%      39.000000    444.000000    16.000000   185.000000     2.000000   \n",
       "75%      49.000000   1480.000000    21.000000   329.000000     3.000000   \n",
       "max      87.000000  71188.000000    31.000000  3025.000000    50.000000   \n",
       "\n",
       "             pdays     previous  \n",
       "count  4521.000000  4521.000000  \n",
       "mean     39.766645     0.542579  \n",
       "std     100.121124     1.693562  \n",
       "min      -1.000000     0.000000  \n",
       "25%      -1.000000     0.000000  \n",
       "50%      -1.000000     0.000000  \n",
       "75%      -1.000000     0.000000  \n",
       "max     871.000000    25.000000  "
      ]
     },
     "execution_count": 4,
     "metadata": {},
     "output_type": "execute_result"
    }
   ],
   "source": [
    "df.describe()"
   ]
  },
  {
   "cell_type": "code",
   "execution_count": 5,
   "id": "ceded90b",
   "metadata": {},
   "outputs": [
    {
     "data": {
      "text/plain": [
       "0"
      ]
     },
     "execution_count": 5,
     "metadata": {},
     "output_type": "execute_result"
    }
   ],
   "source": [
    "df.duplicated().sum()"
   ]
  },
  {
   "cell_type": "code",
   "execution_count": 6,
   "id": "37a29fcf",
   "metadata": {},
   "outputs": [
    {
     "data": {
      "text/plain": [
       "age          0\n",
       "job          0\n",
       "marital      0\n",
       "education    0\n",
       "default      0\n",
       "balance      0\n",
       "housing      0\n",
       "loan         0\n",
       "contact      0\n",
       "day          0\n",
       "month        0\n",
       "duration     0\n",
       "campaign     0\n",
       "pdays        0\n",
       "previous     0\n",
       "poutcome     0\n",
       "y            0\n",
       "dtype: int64"
      ]
     },
     "execution_count": 6,
     "metadata": {},
     "output_type": "execute_result"
    }
   ],
   "source": [
    "df.isnull().sum()"
   ]
  },
  {
   "cell_type": "code",
   "execution_count": 7,
   "id": "56af3e16",
   "metadata": {},
   "outputs": [
    {
     "data": {
      "text/plain": [
       "no     4000\n",
       "yes     521\n",
       "Name: y, dtype: int64"
      ]
     },
     "execution_count": 7,
     "metadata": {},
     "output_type": "execute_result"
    }
   ],
   "source": [
    "df[\"y\"].value_counts()"
   ]
  },
  {
   "cell_type": "markdown",
   "id": "67ea0e78",
   "metadata": {},
   "source": [
    "DATA IS HIGHLY IMBALANCED"
   ]
  },
  {
   "cell_type": "code",
   "execution_count": 8,
   "id": "70a4af95",
   "metadata": {},
   "outputs": [
    {
     "data": {
      "text/html": [
       "<div>\n",
       "<style scoped>\n",
       "    .dataframe tbody tr th:only-of-type {\n",
       "        vertical-align: middle;\n",
       "    }\n",
       "\n",
       "    .dataframe tbody tr th {\n",
       "        vertical-align: top;\n",
       "    }\n",
       "\n",
       "    .dataframe thead th {\n",
       "        text-align: right;\n",
       "    }\n",
       "</style>\n",
       "<table border=\"1\" class=\"dataframe\">\n",
       "  <thead>\n",
       "    <tr style=\"text-align: right;\">\n",
       "      <th>y</th>\n",
       "      <th>no</th>\n",
       "      <th>yes</th>\n",
       "    </tr>\n",
       "    <tr>\n",
       "      <th>job</th>\n",
       "      <th></th>\n",
       "      <th></th>\n",
       "    </tr>\n",
       "  </thead>\n",
       "  <tbody>\n",
       "    <tr>\n",
       "      <th>admin.</th>\n",
       "      <td>39.471429</td>\n",
       "      <td>41.206897</td>\n",
       "    </tr>\n",
       "    <tr>\n",
       "      <th>blue-collar</th>\n",
       "      <td>40.273660</td>\n",
       "      <td>38.666667</td>\n",
       "    </tr>\n",
       "    <tr>\n",
       "      <th>entrepreneur</th>\n",
       "      <td>41.993464</td>\n",
       "      <td>42.200000</td>\n",
       "    </tr>\n",
       "    <tr>\n",
       "      <th>housemaid</th>\n",
       "      <td>47.571429</td>\n",
       "      <td>45.714286</td>\n",
       "    </tr>\n",
       "    <tr>\n",
       "      <th>management</th>\n",
       "      <td>40.763723</td>\n",
       "      <td>39.114504</td>\n",
       "    </tr>\n",
       "    <tr>\n",
       "      <th>retired</th>\n",
       "      <td>60.215909</td>\n",
       "      <td>67.259259</td>\n",
       "    </tr>\n",
       "    <tr>\n",
       "      <th>self-employed</th>\n",
       "      <td>40.950920</td>\n",
       "      <td>45.550000</td>\n",
       "    </tr>\n",
       "    <tr>\n",
       "      <th>services</th>\n",
       "      <td>38.641161</td>\n",
       "      <td>37.868421</td>\n",
       "    </tr>\n",
       "    <tr>\n",
       "      <th>student</th>\n",
       "      <td>27.584615</td>\n",
       "      <td>24.210526</td>\n",
       "    </tr>\n",
       "    <tr>\n",
       "      <th>technician</th>\n",
       "      <td>39.357664</td>\n",
       "      <td>40.397590</td>\n",
       "    </tr>\n",
       "    <tr>\n",
       "      <th>unemployed</th>\n",
       "      <td>40.973913</td>\n",
       "      <td>40.307692</td>\n",
       "    </tr>\n",
       "    <tr>\n",
       "      <th>unknown</th>\n",
       "      <td>47.225806</td>\n",
       "      <td>52.000000</td>\n",
       "    </tr>\n",
       "  </tbody>\n",
       "</table>\n",
       "</div>"
      ],
      "text/plain": [
       "y                     no        yes\n",
       "job                                \n",
       "admin.         39.471429  41.206897\n",
       "blue-collar    40.273660  38.666667\n",
       "entrepreneur   41.993464  42.200000\n",
       "housemaid      47.571429  45.714286\n",
       "management     40.763723  39.114504\n",
       "retired        60.215909  67.259259\n",
       "self-employed  40.950920  45.550000\n",
       "services       38.641161  37.868421\n",
       "student        27.584615  24.210526\n",
       "technician     39.357664  40.397590\n",
       "unemployed     40.973913  40.307692\n",
       "unknown        47.225806  52.000000"
      ]
     },
     "execution_count": 8,
     "metadata": {},
     "output_type": "execute_result"
    }
   ],
   "source": [
    "df.pivot_table(values = \"age\", columns = \"y\",index = \"job\",aggfunc=\"mean\")"
   ]
  },
  {
   "cell_type": "code",
   "execution_count": 9,
   "id": "75a8e44f",
   "metadata": {},
   "outputs": [
    {
     "data": {
      "text/plain": [
       "<AxesSubplot:xlabel='marital,y'>"
      ]
     },
     "execution_count": 9,
     "metadata": {},
     "output_type": "execute_result"
    },
    {
     "data": {
      "image/png": "[encoded data removed]",
      "text/plain": [
       "<Figure size 640x480 with 1 Axes>"
      ]
     },
     "metadata": {},
     "output_type": "display_data"
    }
   ],
   "source": [
    "df.groupby([\"marital\",\"y\"])[\"age\"].count().plot(kind = \"bar\",cmap = \"rainbow\" )"
   ]
  },
  {
   "cell_type": "code",
   "execution_count": 10,
   "id": "e9ab2a37",
   "metadata": {},
   "outputs": [
    {
     "data": {
      "text/html": [
       "<div>\n",
       "<style scoped>\n",
       "    .dataframe tbody tr th:only-of-type {\n",
       "        vertical-align: middle;\n",
       "    }\n",
       "\n",
       "    .dataframe tbody tr th {\n",
       "        vertical-align: top;\n",
       "    }\n",
       "\n",
       "    .dataframe thead th {\n",
       "        text-align: right;\n",
       "    }\n",
       "</style>\n",
       "<table border=\"1\" class=\"dataframe\">\n",
       "  <thead>\n",
       "    <tr style=\"text-align: right;\">\n",
       "      <th></th>\n",
       "      <th>day</th>\n",
       "      <th>month</th>\n",
       "      <th>pdays</th>\n",
       "    </tr>\n",
       "  </thead>\n",
       "  <tbody>\n",
       "    <tr>\n",
       "      <th>0</th>\n",
       "      <td>19</td>\n",
       "      <td>oct</td>\n",
       "      <td>-1</td>\n",
       "    </tr>\n",
       "    <tr>\n",
       "      <th>1</th>\n",
       "      <td>11</td>\n",
       "      <td>may</td>\n",
       "      <td>339</td>\n",
       "    </tr>\n",
       "    <tr>\n",
       "      <th>2</th>\n",
       "      <td>16</td>\n",
       "      <td>apr</td>\n",
       "      <td>330</td>\n",
       "    </tr>\n",
       "    <tr>\n",
       "      <th>3</th>\n",
       "      <td>3</td>\n",
       "      <td>jun</td>\n",
       "      <td>-1</td>\n",
       "    </tr>\n",
       "    <tr>\n",
       "      <th>4</th>\n",
       "      <td>5</td>\n",
       "      <td>may</td>\n",
       "      <td>-1</td>\n",
       "    </tr>\n",
       "  </tbody>\n",
       "</table>\n",
       "</div>"
      ],
      "text/plain": [
       "   day month  pdays\n",
       "0   19   oct     -1\n",
       "1   11   may    339\n",
       "2   16   apr    330\n",
       "3    3   jun     -1\n",
       "4    5   may     -1"
      ]
     },
     "execution_count": 10,
     "metadata": {},
     "output_type": "execute_result"
    }
   ],
   "source": [
    "df[[\"day\", \"month\",\"pdays\"]].head(5)"
   ]
  },
  {
   "cell_type": "markdown",
   "id": "1b4f7062",
   "metadata": {},
   "source": [
    "As we can see the previous days has include all the information regarding when the last contact was done. So we do not need rest of two columns (day & month)"
   ]
  },
  {
   "cell_type": "code",
   "execution_count": 11,
   "id": "f327486a",
   "metadata": {},
   "outputs": [],
   "source": [
    "abc = df.copy()"
   ]
  },
  {
   "cell_type": "code",
   "execution_count": 12,
   "id": "acd10b5d",
   "metadata": {},
   "outputs": [],
   "source": [
    "abc.drop([\"day\",\"month\"],axis =1, inplace = True)"
   ]
  },
  {
   "cell_type": "code",
   "execution_count": 15,
   "id": "0ecd5c6a",
   "metadata": {},
   "outputs": [
    {
     "data": {
      "text/plain": [
       "age             0\n",
       "job            38\n",
       "marital         0\n",
       "education     187\n",
       "default         0\n",
       "balance         0\n",
       "housing         0\n",
       "loan            0\n",
       "contact      1324\n",
       "duration        0\n",
       "campaign        0\n",
       "pdays           0\n",
       "previous        0\n",
       "poutcome     3705\n",
       "y               0\n",
       "dtype: int64"
      ]
     },
     "execution_count": 15,
     "metadata": {},
     "output_type": "execute_result"
    }
   ],
   "source": [
    "for i in abc.columns: #unknown changed by null/no info given\n",
    "    abc[i] = np.where(abc[i] == \"unknown\", np.nan, abc[i])\n",
    "abc.isna().sum()"
   ]
  },
  {
   "cell_type": "code",
   "execution_count": 16,
   "id": "c3359f08",
   "metadata": {},
   "outputs": [
    {
     "data": {
      "text/plain": [
       "81.95089581950896"
      ]
     },
     "execution_count": 16,
     "metadata": {},
     "output_type": "execute_result"
    }
   ],
   "source": [
    "(3705/abc.poutcome.shape[0])*100"
   ]
  },
  {
   "cell_type": "code",
   "execution_count": 17,
   "id": "8b081a7e",
   "metadata": {},
   "outputs": [
    {
     "data": {
      "text/plain": [
       "29.285556292855563"
      ]
     },
     "execution_count": 17,
     "metadata": {},
     "output_type": "execute_result"
    }
   ],
   "source": [
    "(1324/abc.contact.shape[0])*100"
   ]
  },
  {
   "cell_type": "markdown",
   "id": "68323f73",
   "metadata": {},
   "source": [
    "As we can see the poutcome has 3705 values null after replacing the unknown with null values. And we will not impute them because the percentage of null values is higher. So we decide to drop this feature"
   ]
  },
  {
   "cell_type": "code",
   "execution_count": 18,
   "id": "0f6be628",
   "metadata": {},
   "outputs": [],
   "source": [
    "abc.drop(\"poutcome\", inplace = True, axis = 1)"
   ]
  },
  {
   "cell_type": "code",
   "execution_count": 19,
   "id": "e1fb472e",
   "metadata": {},
   "outputs": [],
   "source": [
    "abc.drop(\"contact\", inplace = True, axis = 1) #high null values"
   ]
  },
  {
   "cell_type": "code",
   "execution_count": 20,
   "id": "da18ecee",
   "metadata": {},
   "outputs": [],
   "source": [
    "abc[\"education\"].replace({'primary':0, 'secondary':1, 'tertiary':2},inplace = True)\n",
    "abc[\"default\"].replace({'no':0, 'yes':1},inplace = True)\n",
    "abc[\"marital\"].replace({'single':0, 'married':1, 'divorced':2},inplace = True)\n",
    "abc[\"housing\"].replace({'no':0, 'yes':1},inplace = True)\n",
    "abc[\"loan\"].replace({'no':0, 'yes':1},inplace = True)"
   ]
  },
  {
   "cell_type": "code",
   "execution_count": 21,
   "id": "8a5d4ba5",
   "metadata": {},
   "outputs": [],
   "source": [
    "abc[\"job\"].fillna(method = \"ffill\",inplace=True)\n",
    "abc[\"education\"].fillna(method = \"ffill\",inplace= True)"
   ]
  },
  {
   "cell_type": "code",
   "execution_count": 23,
   "id": "f9f37387",
   "metadata": {},
   "outputs": [
    {
     "data": {
      "text/html": [
       "<div>\n",
       "<style scoped>\n",
       "    .dataframe tbody tr th:only-of-type {\n",
       "        vertical-align: middle;\n",
       "    }\n",
       "\n",
       "    .dataframe tbody tr th {\n",
       "        vertical-align: top;\n",
       "    }\n",
       "\n",
       "    .dataframe thead th {\n",
       "        text-align: right;\n",
       "    }\n",
       "</style>\n",
       "<table border=\"1\" class=\"dataframe\">\n",
       "  <thead>\n",
       "    <tr style=\"text-align: right;\">\n",
       "      <th></th>\n",
       "      <th>age</th>\n",
       "      <th>marital</th>\n",
       "      <th>education</th>\n",
       "      <th>default</th>\n",
       "      <th>balance</th>\n",
       "      <th>housing</th>\n",
       "      <th>loan</th>\n",
       "      <th>duration</th>\n",
       "      <th>campaign</th>\n",
       "      <th>pdays</th>\n",
       "      <th>...</th>\n",
       "      <th>services</th>\n",
       "      <th>management</th>\n",
       "      <th>blue-collar</th>\n",
       "      <th>self-employed</th>\n",
       "      <th>technician</th>\n",
       "      <th>entrepreneur</th>\n",
       "      <th>admin.</th>\n",
       "      <th>student</th>\n",
       "      <th>housemaid</th>\n",
       "      <th>retired</th>\n",
       "    </tr>\n",
       "  </thead>\n",
       "  <tbody>\n",
       "    <tr>\n",
       "      <th>0</th>\n",
       "      <td>30.0</td>\n",
       "      <td>1</td>\n",
       "      <td>0.0</td>\n",
       "      <td>0</td>\n",
       "      <td>1787.0</td>\n",
       "      <td>0</td>\n",
       "      <td>0</td>\n",
       "      <td>79.0</td>\n",
       "      <td>1.0</td>\n",
       "      <td>-1.0</td>\n",
       "      <td>...</td>\n",
       "      <td>0.0</td>\n",
       "      <td>0.0</td>\n",
       "      <td>0.0</td>\n",
       "      <td>0.0</td>\n",
       "      <td>0.0</td>\n",
       "      <td>0.0</td>\n",
       "      <td>0.0</td>\n",
       "      <td>0.0</td>\n",
       "      <td>0.0</td>\n",
       "      <td>1.0</td>\n",
       "    </tr>\n",
       "  </tbody>\n",
       "</table>\n",
       "<p>1 rows × 23 columns</p>\n",
       "</div>"
      ],
      "text/plain": [
       "    age  marital  education  default  balance  housing  loan  duration  \\\n",
       "0  30.0        1        0.0        0   1787.0        0     0      79.0   \n",
       "\n",
       "   campaign  pdays  ...  services management  blue-collar  self-employed  \\\n",
       "0       1.0   -1.0  ...       0.0        0.0          0.0            0.0   \n",
       "\n",
       "   technician  entrepreneur  admin.  student  housemaid  retired  \n",
       "0         0.0           0.0     0.0      0.0        0.0      1.0  \n",
       "\n",
       "[1 rows x 23 columns]"
      ]
     },
     "execution_count": 23,
     "metadata": {},
     "output_type": "execute_result"
    }
   ],
   "source": [
    "from sklearn.preprocessing import OneHotEncoder, StandardScaler, LabelEncoder\n",
    "ohe = OneHotEncoder()\n",
    "abc[list(abc[\"job\"].unique())] = ohe.fit_transform(abc[[\"job\"]]).A\n",
    "abc.drop(\"job\",axis = 1, inplace = True)\n",
    "abc.head(1)"
   ]
  },
  {
   "cell_type": "code",
   "execution_count": 25,
   "id": "fe809820",
   "metadata": {},
   "outputs": [
    {
     "data": {
      "text/html": [
       "<div>\n",
       "<style scoped>\n",
       "    .dataframe tbody tr th:only-of-type {\n",
       "        vertical-align: middle;\n",
       "    }\n",
       "\n",
       "    .dataframe tbody tr th {\n",
       "        vertical-align: top;\n",
       "    }\n",
       "\n",
       "    .dataframe thead th {\n",
       "        text-align: right;\n",
       "    }\n",
       "</style>\n",
       "<table border=\"1\" class=\"dataframe\">\n",
       "  <thead>\n",
       "    <tr style=\"text-align: right;\">\n",
       "      <th></th>\n",
       "      <th>age</th>\n",
       "      <th>marital</th>\n",
       "      <th>education</th>\n",
       "      <th>default</th>\n",
       "      <th>balance</th>\n",
       "      <th>housing</th>\n",
       "      <th>loan</th>\n",
       "      <th>duration</th>\n",
       "      <th>campaign</th>\n",
       "      <th>pdays</th>\n",
       "      <th>...</th>\n",
       "      <th>services</th>\n",
       "      <th>management</th>\n",
       "      <th>blue-collar</th>\n",
       "      <th>self-employed</th>\n",
       "      <th>technician</th>\n",
       "      <th>entrepreneur</th>\n",
       "      <th>admin.</th>\n",
       "      <th>student</th>\n",
       "      <th>housemaid</th>\n",
       "      <th>retired</th>\n",
       "    </tr>\n",
       "  </thead>\n",
       "  <tbody>\n",
       "    <tr>\n",
       "      <th>0</th>\n",
       "      <td>30.0</td>\n",
       "      <td>1</td>\n",
       "      <td>0.0</td>\n",
       "      <td>0</td>\n",
       "      <td>1787.0</td>\n",
       "      <td>0</td>\n",
       "      <td>0</td>\n",
       "      <td>79.0</td>\n",
       "      <td>1.0</td>\n",
       "      <td>-1.0</td>\n",
       "      <td>...</td>\n",
       "      <td>0.0</td>\n",
       "      <td>0.0</td>\n",
       "      <td>0.0</td>\n",
       "      <td>0.0</td>\n",
       "      <td>0.0</td>\n",
       "      <td>0.0</td>\n",
       "      <td>0.0</td>\n",
       "      <td>0.0</td>\n",
       "      <td>0.0</td>\n",
       "      <td>1.0</td>\n",
       "    </tr>\n",
       "  </tbody>\n",
       "</table>\n",
       "<p>1 rows × 23 columns</p>\n",
       "</div>"
      ],
      "text/plain": [
       "    age  marital  education  default  balance  housing  loan  duration  \\\n",
       "0  30.0        1        0.0        0   1787.0        0     0      79.0   \n",
       "\n",
       "   campaign  pdays  ...  services  management  blue-collar  self-employed  \\\n",
       "0       1.0   -1.0  ...       0.0         0.0          0.0            0.0   \n",
       "\n",
       "   technician  entrepreneur  admin.  student  housemaid  retired  \n",
       "0         0.0           0.0     0.0      0.0        0.0      1.0  \n",
       "\n",
       "[1 rows x 23 columns]"
      ]
     },
     "execution_count": 25,
     "metadata": {},
     "output_type": "execute_result"
    }
   ],
   "source": [
    "label = LabelEncoder()\n",
    "abc[\"y\"] =  label.fit_transform(abc[\"y\"])\n",
    "abc.head(1)"
   ]
  },
  {
   "cell_type": "code",
   "execution_count": 26,
   "id": "a86015cd",
   "metadata": {},
   "outputs": [],
   "source": [
    "import json,pickle\n",
    "from statsmodels.stats.outliers_influence import variance_inflation_factor\n",
    "from sklearn.feature_selection import mutual_info_classif, chi2, f_classif, VarianceThreshold\n",
    "from skfeature.function.similarity_based import fisher_score\n",
    "from imblearn.over_sampling import SMOTE\n",
    "pd.set_option(\"display.max_columns\",None)"
   ]
  },
  {
   "cell_type": "code",
   "execution_count": 27,
   "id": "b9a132cf",
   "metadata": {},
   "outputs": [
    {
     "data": {
      "text/plain": [
       "<AxesSubplot:>"
      ]
     },
     "execution_count": 27,
     "metadata": {},
     "output_type": "execute_result"
    },
    {
     "data": {
      "image/png": "[encoded data removed]",
      "text/plain": [
       "<Figure size 640x480 with 1 Axes>"
      ]
     },
     "metadata": {},
     "output_type": "display_data"
    }
   ],
   "source": [
    "_ = abc[['age', 'marital', 'education', 'default', 'balance', 'housing', 'loan',\n",
    "       'duration', 'campaign', 'pdays', 'previous']]\n",
    "vif_lst = []\n",
    "for i in range(_.shape[1]):\n",
    "    vif = variance_inflation_factor(_.to_numpy(),i)\n",
    "    vif_lst.append(vif)\n",
    "s1 = pd.Series(vif_lst, index = _.columns)\n",
    "s1.sort_values().plot(kind = \"barh\", cmap = \"summer\")"
   ]
  },
  {
   "cell_type": "markdown",
   "id": "a50fe6ac",
   "metadata": {},
   "source": [
    "All features are independent from each other."
   ]
  },
  {
   "cell_type": "code",
   "execution_count": 29,
   "id": "c1c15752",
   "metadata": {},
   "outputs": [
    {
     "data": {
      "text/plain": [
       "<AxesSubplot:>"
      ]
     },
     "execution_count": 29,
     "metadata": {},
     "output_type": "execute_result"
    },
    {
     "data": {
      "image/png": "[encoded data removed]",
      "text/plain": [
       "<Figure size 640x480 with 1 Axes>"
      ]
     },
     "metadata": {},
     "output_type": "display_data"
    }
   ],
   "source": [
    "fisher_rank = fisher_score.fisher_score(_.to_numpy(),abc[\"y\"])\n",
    "s = pd.Series(fisher_rank, index = _.columns)\n",
    "s.sort_values().plot(kind = \"barh\")"
   ]
  },
  {
   "cell_type": "markdown",
   "id": "efaa2abc",
   "metadata": {},
   "source": [
    "According to fischer marital is not participating ."
   ]
  },
  {
   "cell_type": "code",
   "execution_count": 30,
   "id": "6b6f8d46",
   "metadata": {},
   "outputs": [
    {
     "data": {
      "text/plain": [
       "age          True\n",
       "marital      True\n",
       "education    True\n",
       "default      True\n",
       "balance      True\n",
       "housing      True\n",
       "loan         True\n",
       "duration     True\n",
       "campaign     True\n",
       "pdays        True\n",
       "previous     True\n",
       "dtype: bool"
      ]
     },
     "execution_count": 30,
     "metadata": {},
     "output_type": "execute_result"
    }
   ],
   "source": [
    "var_th = VarianceThreshold(threshold = 0.0)\n",
    "var_th.fit_transform(_)\n",
    "s = pd.Series(var_th.get_support(),index = _.columns)\n",
    "s"
   ]
  },
  {
   "cell_type": "markdown",
   "id": "143cc046",
   "metadata": {},
   "source": [
    "All features are good predictors."
   ]
  },
  {
   "cell_type": "code",
   "execution_count": 32,
   "id": "9a1c2d5d",
   "metadata": {},
   "outputs": [
    {
     "data": {
      "text/html": [
       "<div>\n",
       "<style scoped>\n",
       "    .dataframe tbody tr th:only-of-type {\n",
       "        vertical-align: middle;\n",
       "    }\n",
       "\n",
       "    .dataframe tbody tr th {\n",
       "        vertical-align: top;\n",
       "    }\n",
       "\n",
       "    .dataframe thead th {\n",
       "        text-align: right;\n",
       "    }\n",
       "</style>\n",
       "<table border=\"1\" class=\"dataframe\">\n",
       "  <thead>\n",
       "    <tr style=\"text-align: right;\">\n",
       "      <th></th>\n",
       "      <th>Chi2</th>\n",
       "      <th>P_val</th>\n",
       "    </tr>\n",
       "  </thead>\n",
       "  <tbody>\n",
       "    <tr>\n",
       "      <th>marital</th>\n",
       "      <td>0.43</td>\n",
       "      <td>0.51</td>\n",
       "    </tr>\n",
       "    <tr>\n",
       "      <th>education</th>\n",
       "      <td>5.14</td>\n",
       "      <td>0.02</td>\n",
       "    </tr>\n",
       "    <tr>\n",
       "      <th>default</th>\n",
       "      <td>0.01</td>\n",
       "      <td>0.93</td>\n",
       "    </tr>\n",
       "    <tr>\n",
       "      <th>housing</th>\n",
       "      <td>21.50</td>\n",
       "      <td>0.00</td>\n",
       "    </tr>\n",
       "    <tr>\n",
       "      <th>loan</th>\n",
       "      <td>19.05</td>\n",
       "      <td>0.00</td>\n",
       "    </tr>\n",
       "    <tr>\n",
       "      <th>campaign</th>\n",
       "      <td>58.50</td>\n",
       "      <td>0.00</td>\n",
       "    </tr>\n",
       "    <tr>\n",
       "      <th>previous</th>\n",
       "      <td>325.48</td>\n",
       "      <td>0.00</td>\n",
       "    </tr>\n",
       "  </tbody>\n",
       "</table>\n",
       "</div>"
      ],
      "text/plain": [
       "             Chi2  P_val\n",
       "marital      0.43   0.51\n",
       "education    5.14   0.02\n",
       "default      0.01   0.93\n",
       "housing     21.50   0.00\n",
       "loan        19.05   0.00\n",
       "campaign    58.50   0.00\n",
       "previous   325.48   0.00"
      ]
     },
     "execution_count": 32,
     "metadata": {},
     "output_type": "execute_result"
    }
   ],
   "source": [
    "_temp = abc[['marital', 'education', 'default', 'housing', 'loan',\n",
    "        'campaign', 'previous']]\n",
    "chi, p_val = chi2(_temp,abc[\"y\"])\n",
    "s = pd.DataFrame({\"Chi2\":np.around(chi,2), \"P_val\": np.around(p_val,2)}, index = _temp.columns)\n",
    "s"
   ]
  },
  {
   "cell_type": "markdown",
   "id": "a7a942fc",
   "metadata": {},
   "source": [
    "marital and default features are not important for the model."
   ]
  },
  {
   "cell_type": "code",
   "execution_count": 34,
   "id": "699a2bb4",
   "metadata": {},
   "outputs": [
    {
     "data": {
      "text/html": [
       "<div>\n",
       "<style scoped>\n",
       "    .dataframe tbody tr th:only-of-type {\n",
       "        vertical-align: middle;\n",
       "    }\n",
       "\n",
       "    .dataframe tbody tr th {\n",
       "        vertical-align: top;\n",
       "    }\n",
       "\n",
       "    .dataframe thead th {\n",
       "        text-align: right;\n",
       "    }\n",
       "</style>\n",
       "<table border=\"1\" class=\"dataframe\">\n",
       "  <thead>\n",
       "    <tr style=\"text-align: right;\">\n",
       "      <th></th>\n",
       "      <th>F_Val</th>\n",
       "      <th>P_val</th>\n",
       "    </tr>\n",
       "  </thead>\n",
       "  <tbody>\n",
       "    <tr>\n",
       "      <th>age</th>\n",
       "      <td>9.21</td>\n",
       "      <td>0.00</td>\n",
       "    </tr>\n",
       "    <tr>\n",
       "      <th>balance</th>\n",
       "      <td>1.45</td>\n",
       "      <td>0.23</td>\n",
       "    </tr>\n",
       "    <tr>\n",
       "      <th>duration</th>\n",
       "      <td>866.51</td>\n",
       "      <td>0.00</td>\n",
       "    </tr>\n",
       "    <tr>\n",
       "      <th>pdays</th>\n",
       "      <td>49.50</td>\n",
       "      <td>0.00</td>\n",
       "    </tr>\n",
       "  </tbody>\n",
       "</table>\n",
       "</div>"
      ],
      "text/plain": [
       "           F_Val  P_val\n",
       "age         9.21   0.00\n",
       "balance     1.45   0.23\n",
       "duration  866.51   0.00\n",
       "pdays      49.50   0.00"
      ]
     },
     "execution_count": 34,
     "metadata": {},
     "output_type": "execute_result"
    }
   ],
   "source": [
    "_temp = abc[['age', 'balance', 'duration', 'pdays']]\n",
    "f_val,p_val = f_classif(_temp,abc[\"y\"])\n",
    "pd.DataFrame({\"F_Val\": np.around(f_val,2), \"P_val\": np.around(p_val,2)},index = _temp.columns)"
   ]
  },
  {
   "cell_type": "markdown",
   "id": "a5131a14",
   "metadata": {},
   "source": [
    "balance feature is not that important."
   ]
  },
  {
   "cell_type": "markdown",
   "id": "9aff26ed",
   "metadata": {},
   "source": [
    "We decide to drop marital feature as it not a good predictor."
   ]
  },
  {
   "cell_type": "code",
   "execution_count": 35,
   "id": "ca888fcb",
   "metadata": {},
   "outputs": [],
   "source": [
    "x = abc.drop(\"y\",axis = 1)\n",
    "y = abc[\"y\"]"
   ]
  },
  {
   "cell_type": "code",
   "execution_count": 36,
   "id": "7c336f6e",
   "metadata": {},
   "outputs": [],
   "source": [
    "from sklearn.model_selection import train_test_split, RandomizedSearchCV\n",
    "from sklearn.linear_model import LogisticRegression\n",
    "from sklearn.neighbors import KNeighborsClassifier\n",
    "from sklearn.ensemble import RandomForestClassifier\n",
    "from sklearn.ensemble import AdaBoostClassifier\n",
    "from xgboost import XGBClassifier\n",
    "from sklearn.metrics import accuracy_score, precision_recall_curve,classification_report,roc_curve, confusion_matrix\n"
   ]
  },
  {
   "cell_type": "code",
   "execution_count": 37,
   "id": "725d0a6d",
   "metadata": {},
   "outputs": [],
   "source": [
    "x_train,x_test,y_train,y_test = train_test_split(x,y, test_size=0.2, random_state=42, stratify=y)\n"
   ]
  },
  {
   "cell_type": "code",
   "execution_count": 38,
   "id": "eb5d4fc4",
   "metadata": {},
   "outputs": [],
   "source": [
    "sm = SMOTE(sampling_strategy=0.75)\n",
    "sm_x,sm_y = sm.fit_resample(x_train,y_train)"
   ]
  },
  {
   "cell_type": "code",
   "execution_count": 39,
   "id": "8036413b",
   "metadata": {},
   "outputs": [
    {
     "name": "stdout",
     "output_type": "stream",
     "text": [
      "First we have the value counts:\n",
      "0    3199\n",
      "1     417\n",
      "Name: y, dtype: int64\n",
      "\n",
      "After OverSampling now we have value counts:\n",
      "0    3199\n",
      "1    2399\n",
      "Name: y, dtype: int64\n"
     ]
    }
   ],
   "source": [
    "print(f\"First we have the value counts:\\n{y_train.value_counts()}\\n\\nAfter OverSampling now we have value counts:\\n{sm_y.value_counts()}\")"
   ]
  },
  {
   "cell_type": "code",
   "execution_count": 40,
   "id": "8fc16424",
   "metadata": {},
   "outputs": [
    {
     "data": {
      "text/html": [
       "<div>\n",
       "<style scoped>\n",
       "    .dataframe tbody tr th:only-of-type {\n",
       "        vertical-align: middle;\n",
       "    }\n",
       "\n",
       "    .dataframe tbody tr th {\n",
       "        vertical-align: top;\n",
       "    }\n",
       "\n",
       "    .dataframe thead th {\n",
       "        text-align: right;\n",
       "    }\n",
       "</style>\n",
       "<table border=\"1\" class=\"dataframe\">\n",
       "  <thead>\n",
       "    <tr style=\"text-align: right;\">\n",
       "      <th></th>\n",
       "      <th>age</th>\n",
       "      <th>marital</th>\n",
       "      <th>education</th>\n",
       "      <th>default</th>\n",
       "      <th>balance</th>\n",
       "      <th>housing</th>\n",
       "      <th>loan</th>\n",
       "      <th>duration</th>\n",
       "      <th>campaign</th>\n",
       "      <th>pdays</th>\n",
       "      <th>previous</th>\n",
       "      <th>unemployed</th>\n",
       "      <th>services</th>\n",
       "      <th>management</th>\n",
       "      <th>blue-collar</th>\n",
       "      <th>self-employed</th>\n",
       "      <th>technician</th>\n",
       "      <th>entrepreneur</th>\n",
       "      <th>admin.</th>\n",
       "      <th>student</th>\n",
       "      <th>housemaid</th>\n",
       "      <th>retired</th>\n",
       "    </tr>\n",
       "  </thead>\n",
       "  <tbody>\n",
       "    <tr>\n",
       "      <th>0</th>\n",
       "      <td>-0.898017</td>\n",
       "      <td>2.097839</td>\n",
       "      <td>-0.301824</td>\n",
       "      <td>8.822985</td>\n",
       "      <td>-0.569578</td>\n",
       "      <td>1.143877</td>\n",
       "      <td>-0.337355</td>\n",
       "      <td>-0.624806</td>\n",
       "      <td>0.141456</td>\n",
       "      <td>-0.475149</td>\n",
       "      <td>-0.419572</td>\n",
       "      <td>3.013880</td>\n",
       "      <td>-0.497199</td>\n",
       "      <td>-0.200744</td>\n",
       "      <td>-0.171464</td>\n",
       "      <td>-0.590257</td>\n",
       "      <td>-0.279017</td>\n",
       "      <td>-0.212428</td>\n",
       "      <td>-0.325472</td>\n",
       "      <td>-0.178561</td>\n",
       "      <td>-0.484126</td>\n",
       "      <td>-0.185635</td>\n",
       "    </tr>\n",
       "    <tr>\n",
       "      <th>1</th>\n",
       "      <td>-0.708073</td>\n",
       "      <td>-1.245088</td>\n",
       "      <td>1.300919</td>\n",
       "      <td>-0.113340</td>\n",
       "      <td>-0.507818</td>\n",
       "      <td>1.143877</td>\n",
       "      <td>2.964239</td>\n",
       "      <td>-0.773577</td>\n",
       "      <td>-0.588720</td>\n",
       "      <td>0.365677</td>\n",
       "      <td>10.790721</td>\n",
       "      <td>-0.382917</td>\n",
       "      <td>-0.497199</td>\n",
       "      <td>-0.200744</td>\n",
       "      <td>-0.171464</td>\n",
       "      <td>-0.590257</td>\n",
       "      <td>-0.279017</td>\n",
       "      <td>-0.212428</td>\n",
       "      <td>-0.325472</td>\n",
       "      <td>-0.178561</td>\n",
       "      <td>2.349400</td>\n",
       "      <td>-0.185635</td>\n",
       "    </tr>\n",
       "    <tr>\n",
       "      <th>2</th>\n",
       "      <td>0.241647</td>\n",
       "      <td>2.097839</td>\n",
       "      <td>1.300919</td>\n",
       "      <td>-0.113340</td>\n",
       "      <td>-0.562716</td>\n",
       "      <td>-0.874220</td>\n",
       "      <td>-0.337355</td>\n",
       "      <td>-0.919432</td>\n",
       "      <td>-0.223632</td>\n",
       "      <td>-0.475149</td>\n",
       "      <td>-0.419572</td>\n",
       "      <td>-0.382917</td>\n",
       "      <td>-0.497199</td>\n",
       "      <td>-0.200744</td>\n",
       "      <td>-0.171464</td>\n",
       "      <td>1.954901</td>\n",
       "      <td>-0.279017</td>\n",
       "      <td>-0.212428</td>\n",
       "      <td>-0.325472</td>\n",
       "      <td>-0.178561</td>\n",
       "      <td>-0.484126</td>\n",
       "      <td>-0.185635</td>\n",
       "    </tr>\n",
       "    <tr>\n",
       "      <th>3</th>\n",
       "      <td>-0.708073</td>\n",
       "      <td>0.426375</td>\n",
       "      <td>-0.301824</td>\n",
       "      <td>-0.113340</td>\n",
       "      <td>2.604967</td>\n",
       "      <td>1.143877</td>\n",
       "      <td>2.964239</td>\n",
       "      <td>-0.931100</td>\n",
       "      <td>-0.588720</td>\n",
       "      <td>-0.475149</td>\n",
       "      <td>-0.419572</td>\n",
       "      <td>-0.382917</td>\n",
       "      <td>2.204121</td>\n",
       "      <td>-0.200744</td>\n",
       "      <td>-0.171464</td>\n",
       "      <td>-0.590257</td>\n",
       "      <td>-0.279017</td>\n",
       "      <td>-0.212428</td>\n",
       "      <td>-0.325472</td>\n",
       "      <td>-0.178561</td>\n",
       "      <td>-0.484126</td>\n",
       "      <td>-0.185635</td>\n",
       "    </tr>\n",
       "    <tr>\n",
       "      <th>4</th>\n",
       "      <td>0.906450</td>\n",
       "      <td>0.426375</td>\n",
       "      <td>-1.904567</td>\n",
       "      <td>-0.113340</td>\n",
       "      <td>1.362522</td>\n",
       "      <td>-0.874220</td>\n",
       "      <td>2.964239</td>\n",
       "      <td>-0.858173</td>\n",
       "      <td>1.601808</td>\n",
       "      <td>-0.475149</td>\n",
       "      <td>-0.419572</td>\n",
       "      <td>-0.382917</td>\n",
       "      <td>2.204121</td>\n",
       "      <td>-0.200744</td>\n",
       "      <td>-0.171464</td>\n",
       "      <td>-0.590257</td>\n",
       "      <td>-0.279017</td>\n",
       "      <td>-0.212428</td>\n",
       "      <td>-0.325472</td>\n",
       "      <td>-0.178561</td>\n",
       "      <td>-0.484126</td>\n",
       "      <td>-0.185635</td>\n",
       "    </tr>\n",
       "  </tbody>\n",
       "</table>\n",
       "</div>"
      ],
      "text/plain": [
       "        age   marital  education   default   balance   housing      loan  \\\n",
       "0 -0.898017  2.097839  -0.301824  8.822985 -0.569578  1.143877 -0.337355   \n",
       "1 -0.708073 -1.245088   1.300919 -0.113340 -0.507818  1.143877  2.964239   \n",
       "2  0.241647  2.097839   1.300919 -0.113340 -0.562716 -0.874220 -0.337355   \n",
       "3 -0.708073  0.426375  -0.301824 -0.113340  2.604967  1.143877  2.964239   \n",
       "4  0.906450  0.426375  -1.904567 -0.113340  1.362522 -0.874220  2.964239   \n",
       "\n",
       "   duration  campaign     pdays   previous  unemployed  services  management  \\\n",
       "0 -0.624806  0.141456 -0.475149  -0.419572    3.013880 -0.497199   -0.200744   \n",
       "1 -0.773577 -0.588720  0.365677  10.790721   -0.382917 -0.497199   -0.200744   \n",
       "2 -0.919432 -0.223632 -0.475149  -0.419572   -0.382917 -0.497199   -0.200744   \n",
       "3 -0.931100 -0.588720 -0.475149  -0.419572   -0.382917  2.204121   -0.200744   \n",
       "4 -0.858173  1.601808 -0.475149  -0.419572   -0.382917  2.204121   -0.200744   \n",
       "\n",
       "   blue-collar  self-employed  technician  entrepreneur    admin.   student  \\\n",
       "0    -0.171464      -0.590257   -0.279017     -0.212428 -0.325472 -0.178561   \n",
       "1    -0.171464      -0.590257   -0.279017     -0.212428 -0.325472 -0.178561   \n",
       "2    -0.171464       1.954901   -0.279017     -0.212428 -0.325472 -0.178561   \n",
       "3    -0.171464      -0.590257   -0.279017     -0.212428 -0.325472 -0.178561   \n",
       "4    -0.171464      -0.590257   -0.279017     -0.212428 -0.325472 -0.178561   \n",
       "\n",
       "   housemaid   retired  \n",
       "0  -0.484126 -0.185635  \n",
       "1   2.349400 -0.185635  \n",
       "2  -0.484126 -0.185635  \n",
       "3  -0.484126 -0.185635  \n",
       "4  -0.484126 -0.185635  "
      ]
     },
     "execution_count": 40,
     "metadata": {},
     "output_type": "execute_result"
    }
   ],
   "source": [
    "std = StandardScaler()\n",
    "arr = std.fit_transform(sm_x)\n",
    "std_x = pd.DataFrame(arr, columns = sm_x.columns)\n",
    "std_x.head()"
   ]
  },
  {
   "cell_type": "code",
   "execution_count": 41,
   "id": "60a38907",
   "metadata": {},
   "outputs": [
    {
     "data": {
      "text/html": [
       "<div>\n",
       "<style scoped>\n",
       "    .dataframe tbody tr th:only-of-type {\n",
       "        vertical-align: middle;\n",
       "    }\n",
       "\n",
       "    .dataframe tbody tr th {\n",
       "        vertical-align: top;\n",
       "    }\n",
       "\n",
       "    .dataframe thead th {\n",
       "        text-align: right;\n",
       "    }\n",
       "</style>\n",
       "<table border=\"1\" class=\"dataframe\">\n",
       "  <thead>\n",
       "    <tr style=\"text-align: right;\">\n",
       "      <th></th>\n",
       "      <th>age</th>\n",
       "      <th>marital</th>\n",
       "      <th>education</th>\n",
       "      <th>default</th>\n",
       "      <th>balance</th>\n",
       "      <th>housing</th>\n",
       "      <th>loan</th>\n",
       "      <th>duration</th>\n",
       "      <th>campaign</th>\n",
       "      <th>pdays</th>\n",
       "      <th>previous</th>\n",
       "      <th>unemployed</th>\n",
       "      <th>services</th>\n",
       "      <th>management</th>\n",
       "      <th>blue-collar</th>\n",
       "      <th>self-employed</th>\n",
       "      <th>technician</th>\n",
       "      <th>entrepreneur</th>\n",
       "      <th>admin.</th>\n",
       "      <th>student</th>\n",
       "      <th>housemaid</th>\n",
       "      <th>retired</th>\n",
       "    </tr>\n",
       "  </thead>\n",
       "  <tbody>\n",
       "    <tr>\n",
       "      <th>0</th>\n",
       "      <td>1.666226</td>\n",
       "      <td>0.426375</td>\n",
       "      <td>-1.904567</td>\n",
       "      <td>-0.11334</td>\n",
       "      <td>0.095677</td>\n",
       "      <td>-0.874220</td>\n",
       "      <td>-0.337355</td>\n",
       "      <td>0.381589</td>\n",
       "      <td>0.506544</td>\n",
       "      <td>3.034811</td>\n",
       "      <td>0.760458</td>\n",
       "      <td>-0.382917</td>\n",
       "      <td>-0.497199</td>\n",
       "      <td>-0.200744</td>\n",
       "      <td>-0.171464</td>\n",
       "      <td>1.954901</td>\n",
       "      <td>-0.279017</td>\n",
       "      <td>-0.212428</td>\n",
       "      <td>-0.325472</td>\n",
       "      <td>-0.178561</td>\n",
       "      <td>-0.484126</td>\n",
       "      <td>-0.185635</td>\n",
       "    </tr>\n",
       "    <tr>\n",
       "      <th>1</th>\n",
       "      <td>-0.138241</td>\n",
       "      <td>0.426375</td>\n",
       "      <td>-0.301824</td>\n",
       "      <td>-0.11334</td>\n",
       "      <td>-0.521161</td>\n",
       "      <td>-0.874220</td>\n",
       "      <td>-0.337355</td>\n",
       "      <td>0.095715</td>\n",
       "      <td>7.078129</td>\n",
       "      <td>-0.475149</td>\n",
       "      <td>-0.419572</td>\n",
       "      <td>-0.382917</td>\n",
       "      <td>-0.497199</td>\n",
       "      <td>-0.200744</td>\n",
       "      <td>-0.171464</td>\n",
       "      <td>-0.590257</td>\n",
       "      <td>-0.279017</td>\n",
       "      <td>-0.212428</td>\n",
       "      <td>-0.325472</td>\n",
       "      <td>-0.178561</td>\n",
       "      <td>2.349400</td>\n",
       "      <td>-0.185635</td>\n",
       "    </tr>\n",
       "    <tr>\n",
       "      <th>2</th>\n",
       "      <td>0.241647</td>\n",
       "      <td>0.426375</td>\n",
       "      <td>-0.301824</td>\n",
       "      <td>-0.11334</td>\n",
       "      <td>-0.395735</td>\n",
       "      <td>1.143877</td>\n",
       "      <td>-0.337355</td>\n",
       "      <td>-0.969022</td>\n",
       "      <td>0.141456</td>\n",
       "      <td>2.497073</td>\n",
       "      <td>0.170443</td>\n",
       "      <td>-0.382917</td>\n",
       "      <td>-0.497199</td>\n",
       "      <td>-0.200744</td>\n",
       "      <td>-0.171464</td>\n",
       "      <td>1.954901</td>\n",
       "      <td>-0.279017</td>\n",
       "      <td>-0.212428</td>\n",
       "      <td>-0.325472</td>\n",
       "      <td>-0.178561</td>\n",
       "      <td>-0.484126</td>\n",
       "      <td>-0.185635</td>\n",
       "    </tr>\n",
       "    <tr>\n",
       "      <th>3</th>\n",
       "      <td>-1.182932</td>\n",
       "      <td>0.426375</td>\n",
       "      <td>-1.904567</td>\n",
       "      <td>-0.11334</td>\n",
       "      <td>-0.601602</td>\n",
       "      <td>-0.874220</td>\n",
       "      <td>-0.337355</td>\n",
       "      <td>-0.686065</td>\n",
       "      <td>-0.588720</td>\n",
       "      <td>-0.475149</td>\n",
       "      <td>-0.419572</td>\n",
       "      <td>-0.382917</td>\n",
       "      <td>-0.497199</td>\n",
       "      <td>-0.200744</td>\n",
       "      <td>-0.171464</td>\n",
       "      <td>-0.590257</td>\n",
       "      <td>-0.279017</td>\n",
       "      <td>-0.212428</td>\n",
       "      <td>3.446871</td>\n",
       "      <td>-0.178561</td>\n",
       "      <td>-0.484126</td>\n",
       "      <td>-0.185635</td>\n",
       "    </tr>\n",
       "    <tr>\n",
       "      <th>4</th>\n",
       "      <td>1.096394</td>\n",
       "      <td>0.426375</td>\n",
       "      <td>1.300919</td>\n",
       "      <td>-0.11334</td>\n",
       "      <td>-0.507055</td>\n",
       "      <td>-0.874220</td>\n",
       "      <td>-0.337355</td>\n",
       "      <td>-0.639391</td>\n",
       "      <td>-0.588720</td>\n",
       "      <td>-0.475149</td>\n",
       "      <td>-0.419572</td>\n",
       "      <td>-0.382917</td>\n",
       "      <td>-0.497199</td>\n",
       "      <td>-0.200744</td>\n",
       "      <td>-0.171464</td>\n",
       "      <td>1.954901</td>\n",
       "      <td>-0.279017</td>\n",
       "      <td>-0.212428</td>\n",
       "      <td>-0.325472</td>\n",
       "      <td>-0.178561</td>\n",
       "      <td>-0.484126</td>\n",
       "      <td>-0.185635</td>\n",
       "    </tr>\n",
       "  </tbody>\n",
       "</table>\n",
       "</div>"
      ],
      "text/plain": [
       "        age   marital  education  default   balance   housing      loan  \\\n",
       "0  1.666226  0.426375  -1.904567 -0.11334  0.095677 -0.874220 -0.337355   \n",
       "1 -0.138241  0.426375  -0.301824 -0.11334 -0.521161 -0.874220 -0.337355   \n",
       "2  0.241647  0.426375  -0.301824 -0.11334 -0.395735  1.143877 -0.337355   \n",
       "3 -1.182932  0.426375  -1.904567 -0.11334 -0.601602 -0.874220 -0.337355   \n",
       "4  1.096394  0.426375   1.300919 -0.11334 -0.507055 -0.874220 -0.337355   \n",
       "\n",
       "   duration  campaign     pdays  previous  unemployed  services  management  \\\n",
       "0  0.381589  0.506544  3.034811  0.760458   -0.382917 -0.497199   -0.200744   \n",
       "1  0.095715  7.078129 -0.475149 -0.419572   -0.382917 -0.497199   -0.200744   \n",
       "2 -0.969022  0.141456  2.497073  0.170443   -0.382917 -0.497199   -0.200744   \n",
       "3 -0.686065 -0.588720 -0.475149 -0.419572   -0.382917 -0.497199   -0.200744   \n",
       "4 -0.639391 -0.588720 -0.475149 -0.419572   -0.382917 -0.497199   -0.200744   \n",
       "\n",
       "   blue-collar  self-employed  technician  entrepreneur    admin.   student  \\\n",
       "0    -0.171464       1.954901   -0.279017     -0.212428 -0.325472 -0.178561   \n",
       "1    -0.171464      -0.590257   -0.279017     -0.212428 -0.325472 -0.178561   \n",
       "2    -0.171464       1.954901   -0.279017     -0.212428 -0.325472 -0.178561   \n",
       "3    -0.171464      -0.590257   -0.279017     -0.212428  3.446871 -0.178561   \n",
       "4    -0.171464       1.954901   -0.279017     -0.212428 -0.325472 -0.178561   \n",
       "\n",
       "   housemaid   retired  \n",
       "0  -0.484126 -0.185635  \n",
       "1   2.349400 -0.185635  \n",
       "2  -0.484126 -0.185635  \n",
       "3  -0.484126 -0.185635  \n",
       "4  -0.484126 -0.185635  "
      ]
     },
     "execution_count": 41,
     "metadata": {},
     "output_type": "execute_result"
    }
   ],
   "source": [
    "arr1 = std.transform(x_test)\n",
    "std_x_te = pd.DataFrame(arr1, columns = x_test.columns)\n",
    "std_x_te.head()"
   ]
  },
  {
   "cell_type": "code",
   "execution_count": 42,
   "id": "9401b74c",
   "metadata": {},
   "outputs": [
    {
     "name": "stdout",
     "output_type": "stream",
     "text": [
      "For LogisticRegression::\n",
      "The Training Accuracy is: 0.8290460878885316\n",
      "The Testing Accuracy is: 0.8243093922651934\n",
      "--------------------------------------------------------------------------------\n",
      "For KNN Classifier::\n",
      "The Training Accuracy is: 0.927652733118971\n",
      "The Testing Accuracy is: 0.8342541436464088\n",
      "--------------------------------------------------------------------------------\n",
      "For RandomForest::\n",
      "The Training Accuracy is: 1.0\n",
      "The Testing Accuracy is: 0.8839779005524862\n",
      "--------------------------------------------------------------------------------\n",
      "For AdaBoost::\n",
      "The Training Accuracy is: 0.9135405501964987\n",
      "The Testing Accuracy is: 0.8751381215469614\n",
      "--------------------------------------------------------------------------------\n",
      "For XGBoost::\n",
      "The Training Accuracy is: 0.9962486602357985\n",
      "The Testing Accuracy is: 0.8707182320441988\n",
      "--------------------------------------------------------------------------------\n"
     ]
    }
   ],
   "source": [
    "lst = [(\"LogisticRegression\",LogisticRegression()),\n",
    "       (\"KNN Classifier\", KNeighborsClassifier()),\n",
    "       (\"RandomForest\",RandomForestClassifier()),\n",
    "      (\"AdaBoost\",AdaBoostClassifier()),\n",
    "      (\"XGBoost\",XGBClassifier())]\n",
    "for name,model in lst:\n",
    "    model.fit(std_x,sm_y)\n",
    "    y1 = model.predict(std_x)\n",
    "    accuracy = accuracy_score(sm_y,y1)\n",
    "    y2 = model.predict(std_x_te)\n",
    "    acc_te = accuracy_score(y_test,y2)\n",
    "    print(f\"For {name}::\\nThe Training Accuracy is: {accuracy}\\nThe Testing Accuracy is: {acc_te}\")\n",
    "    print(\"--\"*40)"
   ]
  },
  {
   "cell_type": "markdown",
   "id": "84f15cce",
   "metadata": {},
   "source": [
    "we will move forward with xgbclassifier model."
   ]
  },
  {
   "cell_type": "code",
   "execution_count": 43,
   "id": "9c32c2d6",
   "metadata": {},
   "outputs": [
    {
     "data": {
      "text/plain": [
       "{'subsample': 0.7,\n",
       " 'n_estimators': 150,\n",
       " 'max_depth': 8,\n",
       " 'learning_rate': 0.08999999999999998,\n",
       " 'colsample_bytree': 0.7,\n",
       " 'colsample_bylevel': 0.7999999999999999}"
      ]
     },
     "execution_count": 43,
     "metadata": {},
     "output_type": "execute_result"
    }
   ],
   "source": [
    "estimator = XGBClassifier()\n",
    "parameters = {\"n_estimators\": [50,100,150,200,250,300,350,400],\n",
    "             \"max_depth\": np.arange(2,10),\n",
    "             \"learning_rate\": np.arange(0.01,0.1,0.02),\n",
    "             'subsample': np.arange(0.5, 1.0, 0.1),\n",
    "             'colsample_bytree': np.arange(0.4, 1.0, 0.1),\n",
    "             'colsample_bylevel': np.arange(0.4, 1.0, 0.1)}\n",
    "rscv = RandomizedSearchCV(estimator, parameters, cv = 5, random_state= 42)\n",
    "rscv.fit(std_x,sm_y)\n",
    "rscv.best_params_"
   ]
  },
  {
   "cell_type": "code",
   "execution_count": 44,
   "id": "1361126f",
   "metadata": {},
   "outputs": [
    {
     "data": {
      "text/plain": [
       "XGBClassifier(base_score=None, booster=None, callbacks=None,\n",
       "              colsample_bylevel=0.5, colsample_bynode=None,\n",
       "              colsample_bytree=0.7999999999999999, early_stopping_rounds=None,\n",
       "              enable_categorical=False, eval_metric=None, feature_types=None,\n",
       "              gamma=None, gpu_id=None, grow_policy=None, importance_type=None,\n",
       "              interaction_constraints=None, learning_rate=0.049999999999999996,\n",
       "              max_bin=None, max_cat_threshold=None, max_cat_to_onehot=None,\n",
       "              max_delta_step=None, max_depth=7, max_leaves=None,\n",
       "              min_child_weight=None, missing=nan, monotone_constraints=None,\n",
       "              n_estimators=150, n_jobs=None, num_parallel_tree=None,\n",
       "              predictor=None, random_state=None, ...)"
      ]
     },
     "execution_count": 44,
     "metadata": {},
     "output_type": "execute_result"
    }
   ],
   "source": [
    "xgb = XGBClassifier(subsample = 0.5, n_estimators = 150,\n",
    "                    max_depth = 7, learning_rate = 0.049999999999999996,\n",
    "                    colsample_bytree = 0.7999999999999999, colsample_bylevel = 0.5)\n",
    "xgb.fit(std_x,sm_y)"
   ]
  },
  {
   "cell_type": "code",
   "execution_count": 45,
   "id": "976d9cb8",
   "metadata": {},
   "outputs": [
    {
     "name": "stdout",
     "output_type": "stream",
     "text": [
      "Confusion Matrix:\n",
      " [[3134   65]\n",
      " [ 164 2235]]\n",
      "\n",
      "\n",
      "The accuracy of the model: 95.9092533047517\n",
      "\n",
      "\n",
      "The classification report:\n",
      "               precision    recall  f1-score   support\n",
      "\n",
      "           0       0.95      0.98      0.96      3199\n",
      "           1       0.97      0.93      0.95      2399\n",
      "\n",
      "    accuracy                           0.96      5598\n",
      "   macro avg       0.96      0.96      0.96      5598\n",
      "weighted avg       0.96      0.96      0.96      5598\n",
      "\n"
     ]
    }
   ],
   "source": [
    "y_pr_train = xgb.predict(std_x)\n",
    "acc_train = accuracy_score(sm_y,y_pr_train)\n",
    "class_re = classification_report(sm_y,y_pr_train)\n",
    "con_mat = confusion_matrix(sm_y,y_pr_train)\n",
    "print(\"Confusion Matrix:\\n\",con_mat)\n",
    "print(\"\\n\")\n",
    "print(\"The accuracy of the model:\",(acc_train)*100)\n",
    "print(\"\\n\")\n",
    "print(\"The classification report:\\n\",class_re)"
   ]
  },
  {
   "cell_type": "code",
   "execution_count": 46,
   "id": "b2bc850e",
   "metadata": {},
   "outputs": [
    {
     "name": "stdout",
     "output_type": "stream",
     "text": [
      "Confusion Matrix:\n",
      " [[759  42]\n",
      " [ 66  38]]\n",
      "\n",
      "\n",
      "The accuracy of the model: 88.06629834254144\n",
      "\n",
      "\n",
      "The classification report:\n",
      "               precision    recall  f1-score   support\n",
      "\n",
      "           0       0.92      0.95      0.93       801\n",
      "           1       0.47      0.37      0.41       104\n",
      "\n",
      "    accuracy                           0.88       905\n",
      "   macro avg       0.70      0.66      0.67       905\n",
      "weighted avg       0.87      0.88      0.87       905\n",
      "\n"
     ]
    }
   ],
   "source": [
    "y_pr_test = xgb.predict(std_x_te)\n",
    "acc_test = accuracy_score(y_test,y_pr_test)\n",
    "class_re1 = classification_report(y_test,y_pr_test)\n",
    "con_mat1 = confusion_matrix(y_test,y_pr_test)\n",
    "print(\"Confusion Matrix:\\n\",con_mat1)\n",
    "print(\"\\n\")\n",
    "print(\"The accuracy of the model:\",(acc_test)*100)\n",
    "print(\"\\n\")\n",
    "print(\"The classification report:\\n\",class_re1)"
   ]
  },
  {
   "cell_type": "code",
   "execution_count": 47,
   "id": "aaced052",
   "metadata": {},
   "outputs": [
    {
     "data": {
      "text/plain": [
       "Text(0.5, 1.0, 'ROC - AUC CURVE')"
      ]
     },
     "execution_count": 47,
     "metadata": {},
     "output_type": "execute_result"
    },
    {
     "data": {
      "image/png": "[encoded data removed]",
      "text/plain": [
       "<Figure size 640x480 with 1 Axes>"
      ]
     },
     "metadata": {},
     "output_type": "display_data"
    }
   ],
   "source": [
    "y_prob = xgb.predict_proba(std_x)\n",
    "y_pr   = y_prob[:,1]\n",
    "fpr,tpr,threshold = roc_curve(sm_y,y_pr)\n",
    "plt.plot(fpr,tpr)\n",
    "plt.xlabel(\"False Positive Rate\")\n",
    "plt.ylabel(\"True Positive Rate\")\n",
    "plt.title(\"ROC - AUC CURVE\")"
   ]
  },
  {
   "cell_type": "code",
   "execution_count": 48,
   "id": "484ea12b",
   "metadata": {},
   "outputs": [
    {
     "ename": "NameError",
     "evalue": "name 'precision_score' is not defined",
     "output_type": "error",
     "traceback": [
      "\u001b[0;31m---------------------------------------------------------------------------\u001b[0m",
      "\u001b[0;31mNameError\u001b[0m                                 Traceback (most recent call last)",
      "\u001b[0;32m/var/folders/bt/rtt5pc916cq7xtghg828tf800000gp/T/ipykernel_96716/2863254915.py\u001b[0m in \u001b[0;36m<module>\u001b[0;34m\u001b[0m\n\u001b[0;32m----> 1\u001b[0;31m \u001b[0mprint\u001b[0m\u001b[0;34m(\u001b[0m\u001b[0;34m'Precision: %.3f'\u001b[0m \u001b[0;34m%\u001b[0m \u001b[0mprecision_score\u001b[0m\u001b[0;34m(\u001b[0m\u001b[0my_test\u001b[0m\u001b[0;34m,\u001b[0m\u001b[0my_pr_test\u001b[0m \u001b[0;34m)\u001b[0m\u001b[0;34m)\u001b[0m\u001b[0;34m\u001b[0m\u001b[0;34m\u001b[0m\u001b[0m\n\u001b[0m",
      "\u001b[0;31mNameError\u001b[0m: name 'precision_score' is not defined"
     ]
    }
   ],
   "source": []
  },
  {
   "cell_type": "code",
   "execution_count": 49,
   "id": "5dbad025",
   "metadata": {},
   "outputs": [
    {
     "ename": "NameError",
     "evalue": "name 'sklearn' is not defined",
     "output_type": "error",
     "traceback": [
      "\u001b[0;31m---------------------------------------------------------------------------\u001b[0m",
      "\u001b[0;31mNameError\u001b[0m                                 Traceback (most recent call last)",
      "\u001b[0;32m/var/folders/bt/rtt5pc916cq7xtghg828tf800000gp/T/ipykernel_96716/1995998257.py\u001b[0m in \u001b[0;36m<module>\u001b[0;34m\u001b[0m\n\u001b[0;32m----> 1\u001b[0;31m \u001b[0msklearn\u001b[0m\u001b[0;34m.\u001b[0m\u001b[0mmetrics\u001b[0m\u001b[0;34m.\u001b[0m\u001b[0mrecall_score\u001b[0m\u001b[0;34m\u001b[0m\u001b[0;34m\u001b[0m\u001b[0m\n\u001b[0m",
      "\u001b[0;31mNameError\u001b[0m: name 'sklearn' is not defined"
     ]
    }
   ],
   "source": []
  },
  {
   "cell_type": "code",
   "execution_count": null,
   "id": "c116f3e7",
   "metadata": {},
   "outputs": [],
   "source": []
  }
 ],
 "metadata": {
  "kernelspec": {
   "display_name": "Python 3 (ipykernel)",
   "language": "python",
   "name": "python3"
  },
  "language_info": {
   "codemirror_mode": {
    "name": "ipython",
    "version": 3
   },
   "file_extension": ".py",
   "mimetype": "text/x-python",
   "name": "python",
   "nbconvert_exporter": "python",
   "pygments_lexer": "ipython3",
   "version": "3.9.13"
  }
 },
 "nbformat": 4,
 "nbformat_minor": 5
}
